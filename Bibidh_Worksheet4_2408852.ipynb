{
  "nbformat": 4,
  "nbformat_minor": 0,
  "metadata": {
    "colab": {
      "provenance": []
    },
    "kernelspec": {
      "name": "python3",
      "display_name": "Python 3"
    },
    "language_info": {
      "name": "python"
    }
  },
  "cells": [
    {
      "cell_type": "code",
      "execution_count": null,
      "metadata": {
        "colab": {
          "base_uri": "https://localhost:8080/"
        },
        "id": "JEw_5skZ3e4l",
        "outputId": "f228f287-b0c8-49ad-9a2f-9f647819bc61"
      },
      "outputs": [
        {
          "output_type": "stream",
          "name": "stdout",
          "text": [
            "Data after processing:\n",
            "    Pregnancies  Glucose  BloodPressure  SkinThickness  Insulin   BMI  \\\n",
            "0            6      148             72             35        0  33.6   \n",
            "1            1       85             66             29        0  26.6   \n",
            "2            8      183             64              0        0  23.3   \n",
            "3            1       89             66             23       94  28.1   \n",
            "4            0      137             40             35      168  43.1   \n",
            "\n",
            "   DiabetesPedigreeFunction  Age  Outcome  \n",
            "0                     0.627   50        1  \n",
            "1                     0.351   31        0  \n",
            "2                     0.672   32        1  \n",
            "3                     0.167   21        0  \n",
            "4                     2.288   33        1  \n",
            "\n",
            "Missing values after processing:\n",
            " Pregnancies                 0\n",
            "Glucose                     0\n",
            "BloodPressure               0\n",
            "SkinThickness               0\n",
            "Insulin                     0\n",
            "BMI                         0\n",
            "DiabetesPedigreeFunction    0\n",
            "Age                         0\n",
            "Outcome                     0\n",
            "dtype: int64\n"
          ]
        }
      ],
      "source": [
        "import pandas as pd\n",
        "import numpy as np\n",
        "# Load the Titanic dataset\n",
        "data = pd.read_csv(\"/content/drive/MyDrive/secondYear/5CS037 - Concepts and Technologies of AI. /Resources/week4/Copy of diabetes.csv\")\n",
        "# Drop all categorical columns except ’Survived’\n",
        "categorical_columns = data.select_dtypes(include=['object']).columns\n",
        "data = data.drop(columns=[col for col in categorical_columns if col != 'Survived'])\n",
        "# Check for missing values\n",
        "missing_info = data.isnull().sum() / len(data) * 100\n",
        "# Handle missing values\n",
        "for column in data.columns:\n",
        "  if missing_info[column] > 10: # If more than 10% missing\n",
        "    data[column].fillna(data[column].mean(), inplace=True)\n",
        "  else: # If less than 10% missing\n",
        "    data.dropna(subset=[column], inplace=True)\n",
        "# Display cleaned data\n",
        "print(\"Data after processing:\\n\", data.head())\n",
        "print(\"\\nMissing values after processing:\\n\", data.isnull().sum())"
      ]
    },
    {
      "cell_type": "code",
      "source": [
        "import numpy as np\n",
        "# Separate features (X) and target (y)\n",
        "X = data.drop(columns=['Outcome']).values # Convert features to NumPy array\n",
        "y = data['Outcome'].values # Convert target to NumPy array\n",
        "# Define a function for train-test split from scratch\n",
        "def train_test_split_scratch(X, y, test_size=0.3, random_seed=42):\n",
        "  \"\"\"\n",
        "  Splits dataset into train and test sets.\n",
        "  Arguments:\n",
        "  X : np.ndarray\n",
        "  Feature matrix.\n",
        "  y : np.ndarray\n",
        "  Target array.\n",
        "  test_size : float\n",
        "  Proportion of the dataset to include in the test split (0 < test_size < 1).\n",
        "  random_seed : int\n",
        "  Seed for reproducibility.\n",
        "  Returns:\n",
        "  X_train, X_test, y_train, y_test : np.ndarray\n",
        "  Training and testing splits of features and target.\n",
        "\n",
        "  \"\"\"\n",
        "\n",
        "  np.random.seed(random_seed)\n",
        "  indices = np.arange(X.shape[0])\n",
        "  np.random.shuffle(indices) # Shuffle the indices\n",
        "  test_split_size = int(len(X) * test_size)\n",
        "  test_indices = indices[:test_split_size]\n",
        "  train_indices = indices[test_split_size:]\n",
        "  X_train, X_test = X[train_indices], X[test_indices]\n",
        "  y_train, y_test = y[train_indices], y[test_indices]\n",
        "  return X_train, X_test, y_train, y_test\n",
        "# Perform the train-test split\n",
        "\n",
        "X_train, X_test, y_train, y_test = train_test_split_scratch(X, y, test_size=0.3)\n",
        "\n",
        "# Output shapes to verify\n",
        "print(\"Shape of X_train:\", X_train.shape)\n",
        "print(\"Shape of X_test:\", X_test.shape)\n",
        "print(\"Shape of y_train:\", y_train.shape)\n",
        "print(\"Shape of y_test:\", y_test.shape)"
      ],
      "metadata": {
        "colab": {
          "base_uri": "https://localhost:8080/"
        },
        "id": "FvqVCq1V4JHu",
        "outputId": "bb3a8d3c-db19-4df5-a605-66266e58a41e"
      },
      "execution_count": null,
      "outputs": [
        {
          "output_type": "stream",
          "name": "stdout",
          "text": [
            "Shape of X_train: (538, 8)\n",
            "Shape of X_test: (230, 8)\n",
            "Shape of y_train: (538,)\n",
            "Shape of y_test: (230,)\n"
          ]
        }
      ]
    },
    {
      "cell_type": "code",
      "source": [
        "def euclidean_distance(point1, point2):\n",
        "  \"\"\"\n",
        "  Calculate the Euclidean distance between two points in n-dimensional space.\n",
        "  Arguments:\n",
        "  point1 : np.ndarray\n",
        "  The first point as a numpy array.\n",
        "  point2 : np.ndarray\n",
        "  The second point as a numpy array.\n",
        "  Returns:\n",
        "  float\n",
        "  The Euclidean distance between the two points.\n",
        "  Raises:\n",
        "  ValueError: If the input points do not have the same dimensionality.\n",
        "  \"\"\"\n",
        "  # Check if the points are of the same dimension\n",
        "  if point1.shape != point2.shape:\n",
        "    raise ValueError(\"Points must have the same dimensions to calculate Euclidean distance.\")\n",
        "  # Calculate the Euclidean distance\n",
        "  distance = np.sqrt(np.sum((point1 - point2) ** 2))\n",
        "  return distance"
      ],
      "metadata": {
        "id": "KeobnvX75Gnl"
      },
      "execution_count": null,
      "outputs": []
    },
    {
      "cell_type": "code",
      "source": [
        "# Test case for the function\n",
        "try:\n",
        "  # Define two points\n",
        "  point1 = np.array([3, 4])\n",
        "  point2 = np.array([0, 0])\n",
        "  # Calculate the distance\n",
        "  result = euclidean_distance(point1, point2)\n",
        "  # Check if the result matches the expected value (e.g., sqrt(3^2 + 4^2) = 5)\n",
        "  expected_result = 5.0\n",
        "  assert np.isclose(result, expected_result), f\"Expected {expected_result}, but got {result}\"\n",
        "  print(\"Test passed successfully!\")\n",
        "except ValueError as ve:\n",
        "  print(f\"ValueError: {ve}\")\n",
        "except AssertionError as ae:\n",
        "  print(f\"AssertionError: {ae}\")\n",
        "except Exception as e:\n",
        "  print(f\"An unexpected error occurred: {e}\")"
      ],
      "metadata": {
        "colab": {
          "base_uri": "https://localhost:8080/"
        },
        "id": "AhdkzXFY8Exc",
        "outputId": "51892819-6e9e-4974-af09-e57c6ddec6aa"
      },
      "execution_count": null,
      "outputs": [
        {
          "output_type": "stream",
          "name": "stdout",
          "text": [
            "Test passed successfully!\n"
          ]
        }
      ]
    },
    {
      "cell_type": "code",
      "source": [
        "# Function for KNN prediction for a single query\n",
        "def knn_predict_single(query, X_train, y_train, k=3):\n",
        "  \"\"\"\n",
        "  Predict the class label for a single query using the K-nearest neighbors algorithm.\n",
        "  Arguments:\n",
        "  query : np.ndarray\n",
        "  The query point for which the prediction is to be made.\n",
        "  X_train : np.ndarray\n",
        "  The training feature matrix.\n",
        "  y_train : np.ndarray\n",
        "  The training labels.\n",
        "  k : int, optional\n",
        "  The number of nearest neighbors to consider (default is 3).\n",
        "  Returns:\n",
        "  int\n",
        "  The predicted class label for the query.\n",
        "  \"\"\"\n",
        "  distances = [euclidean_distance(query, x) for x in X_train]\n",
        "  sorted_indices = np.argsort(distances)\n",
        "  nearest_indices = sorted_indices[:k]\n",
        "  nearest_labels = y_train[nearest_indices]\n",
        "  prediction = np.bincount(nearest_labels).argmax()\n",
        "  return prediction"
      ],
      "metadata": {
        "id": "IRHkI9F96YQF"
      },
      "execution_count": null,
      "outputs": []
    },
    {
      "cell_type": "code",
      "source": [
        "# Function to test KNN for all test samples\n",
        "def knn_predict(X_test, X_train, y_train, k=3):\n",
        "  \"\"\"\n",
        "  Predict the class labels for all test samples using the K-nearest neighbors algorithm.\n",
        "  Arguments:\n",
        "  X_test : np.ndarray\n",
        "  The test feature matrix.\n",
        "  X_train : np.ndarray\n",
        "  The training feature matrix.\n",
        "  y_train : np.ndarray\n",
        "  The training labels.\n",
        "  k : int, optional\n",
        "  The number of nearest neighbors to consider (default is 3).\n",
        "  Returns:\n",
        "  np.ndarray\n",
        "  An array of predicted class labels for the test samples.\n",
        "  \"\"\"\n",
        "  predictions = [knn_predict_single(x, X_train, y_train, k) for x in X_test]\n",
        "  return np.array(predictions)"
      ],
      "metadata": {
        "id": "Mr1DxrY_51e1"
      },
      "execution_count": null,
      "outputs": []
    },
    {
      "cell_type": "code",
      "source": [
        "# Assume X_train, X_test, y_train, and y_test have been prepared using the code above\n",
        "try:\n",
        "  # Define the test set for the test case\n",
        "  X_test_sample = X_test[:5] # Taking a small subset for testing\n",
        "  y_test_sample = y_test[:5] # Corresponding labels for the subset\n",
        "  # Make predictions\n",
        "  predictions = knn_predict(X_test_sample, X_train, y_train, k=3)\n",
        "  # Print test results\n",
        "  print(\"Predictions:\", predictions)\n",
        "  print(\"Actual labels:\", y_test_sample)\n",
        "  # Check if predictions match expected format\n",
        "  assert predictions.shape == y_test_sample.shape, \"The shape of predictions does not match the shape of the actual labels.\"\n",
        "  print(\"Test case passed successfully!\")\n",
        "except AssertionError as ae:\n",
        "  print(f\"AssertionError: {ae}\")\n",
        "except Exception as e:\n",
        "  print(f\"An unexpected error occurred: {e}\")"
      ],
      "metadata": {
        "colab": {
          "base_uri": "https://localhost:8080/"
        },
        "id": "ATYfnq9Y6qtD",
        "outputId": "84c7dea7-7988-4e8f-f9fa-d65237025080"
      },
      "execution_count": null,
      "outputs": [
        {
          "output_type": "stream",
          "name": "stdout",
          "text": [
            "Predictions: [0 1 0 1 1]\n",
            "Actual labels: [0 0 0 0 0]\n",
            "Test case passed successfully!\n"
          ]
        }
      ]
    },
    {
      "cell_type": "code",
      "source": [
        "# Function to compute accuracy of predictions\n",
        "def compute_accuracy(y_true, y_pred):\n",
        "  \"\"\"\n",
        "  Compute the accuracy of predictions.\n",
        "  Arguments:\n",
        "  y_true : np.ndarray ; The true labels.\n",
        "  y_pred : np.ndarray; The predicted labels.\n",
        "  Returns:\n",
        "  float : The accuracy as a percentage (0 to 100).\n",
        "  \"\"\"\n",
        "  correct_predictions = np.sum(y_true == y_pred)\n",
        "  total_predictions = len(y_true)\n",
        "  accuracy = (correct_predictions / total_predictions) * 100\n",
        "  return accuracy\n"
      ],
      "metadata": {
        "id": "W8PBmNJx65bI"
      },
      "execution_count": null,
      "outputs": []
    },
    {
      "cell_type": "code",
      "source": [
        " # Perform prediction on the entire test set\n",
        "try:\n",
        "    # Make predictions on the entire test set\n",
        "    predictions = knn_predict(X_test, X_train, y_train, k=3)\n",
        "    # Compute the accuracy\n",
        "    accuracy = compute_accuracy(y_test, predictions)\n",
        "    # Print the accuracy\n",
        "    print(f\"Accuracy of the KNN model on the test set: {accuracy:.2f}%\")\n",
        "except Exception as e:\n",
        "    print(f\"An unexpected error occurred during prediction or accuracy computation: {e}\")"
      ],
      "metadata": {
        "colab": {
          "base_uri": "https://localhost:8080/"
        },
        "id": "0nkoe9x59EO0",
        "outputId": "740baef8-e623-48bd-9d2a-cfae64dda1ec"
      },
      "execution_count": null,
      "outputs": [
        {
          "output_type": "stream",
          "name": "stdout",
          "text": [
            "Accuracy of the KNN model on the test set: 67.39%\n"
          ]
        }
      ]
    },
    {
      "cell_type": "code",
      "source": [
        "# Function to test KNN on different values of k and plot the accuracies\n",
        "import matplotlib.pyplot as plt\n",
        "def experiment_knn_k_values(X_train, y_train, X_test, y_test, k_values):\n",
        "  \"\"\"\n",
        "  Run KNN predictions for different values of k and plot the accuracies.\n",
        "  Arguments:\n",
        "  X_train : np.ndarray\n",
        "  The training feature matrix.\n",
        "  y_train : np.ndarray\n",
        "  The training labels.\n",
        "  X_test : np.ndarray\n",
        "  The test feature matrix.\n",
        "  y_test : np.ndarray\n",
        "  The test labels.\n",
        "  k_values : list of int\n",
        "  A list of k values to experiment with.\n",
        "  Returns:\n",
        "  dict\n",
        "  A dictionary with k values as keys and their corresponding accuracies as values.\n",
        "  \"\"\"\n",
        "  accuracies = {}\n",
        "  for k in k_values:\n",
        "     # Make predictions using the current value of k\n",
        "    predictions = knn_predict(X_test, X_train, y_train, k=k)\n",
        "    # Compute the accuracy\n",
        "    accuracy = compute_accuracy(y_test, predictions)\n",
        "    accuracies[k] = accuracy\n",
        "    print(f\"Accuracy for k={k}: {accuracy:.2f}%\")\n",
        "    # Plot the accuracies\n",
        "  plt.figure(figsize=(10, 5))\n",
        "  plt.plot(k_values, list(accuracies.values()), marker='o')\n",
        "  plt.xlabel('k (Number of Neighbors)')\n",
        "  plt.ylabel('Accuracy (%)')\n",
        "  plt.title('Accuracy of KNN with Different Values of k')\n",
        "  plt.grid(True)\n",
        "  plt.show()\n",
        "  return accuracies\n"
      ],
      "metadata": {
        "id": "V-2M2vp97M86"
      },
      "execution_count": null,
      "outputs": []
    },
    {
      "cell_type": "code",
      "source": [
        "\n",
        "# Define the range of k values to experiment with\n",
        "k_values = range(1, 21) # You can adjust this range as needed\n",
        "# Run the experiment\n",
        "try:\n",
        "  accuracies = experiment_knn_k_values(X_train, y_train, X_test, y_test, k_values)\n",
        "  print(\"Experiment completed. Check the plot for the accuracy trend.\")\n",
        "except Exception as e:\n",
        "  print(f\"An unexpected error occurred during the experiment: {e}\")"
      ],
      "metadata": {
        "colab": {
          "base_uri": "https://localhost:8080/",
          "height": 867
        },
        "id": "EjPph86F7tI0",
        "outputId": "d7172139-342c-4ad9-b875-86e05bdc9c1f"
      },
      "execution_count": null,
      "outputs": [
        {
          "output_type": "stream",
          "name": "stdout",
          "text": [
            "Accuracy for k=1: 68.70%\n",
            "Accuracy for k=2: 72.61%\n",
            "Accuracy for k=3: 67.39%\n",
            "Accuracy for k=4: 72.17%\n",
            "Accuracy for k=5: 68.70%\n",
            "Accuracy for k=6: 70.00%\n",
            "Accuracy for k=7: 69.13%\n",
            "Accuracy for k=8: 71.30%\n",
            "Accuracy for k=9: 70.00%\n",
            "Accuracy for k=10: 71.74%\n",
            "Accuracy for k=11: 73.04%\n",
            "Accuracy for k=12: 73.91%\n",
            "Accuracy for k=13: 74.35%\n",
            "Accuracy for k=14: 72.61%\n",
            "Accuracy for k=15: 73.91%\n",
            "Accuracy for k=16: 73.48%\n",
            "Accuracy for k=17: 72.61%\n",
            "Accuracy for k=18: 71.30%\n",
            "Accuracy for k=19: 72.17%\n",
            "Accuracy for k=20: 70.87%\n"
          ]
        },
        {
          "output_type": "display_data",
          "data": {
            "text/plain": [
              "<Figure size 1000x500 with 1 Axes>"
            ],
            "image/png": "[encoded data removed]"
          },
          "metadata": {}
        },
        {
          "output_type": "stream",
          "name": "stdout",
          "text": [
            "Experiment completed. Check the plot for the accuracy trend.\n"
          ]
        }
      ]
    },
    {
      "cell_type": "code",
      "source": [
        "from google.colab import drive\n",
        "drive.mount('/content/drive')"
      ],
      "metadata": {
        "colab": {
          "base_uri": "https://localhost:8080/"
        },
        "id": "o-A4aniR3mVl",
        "outputId": "8c56ede9-9ab3-4b3a-eda0-b2d0502042b2"
      },
      "execution_count": null,
      "outputs": [
        {
          "output_type": "stream",
          "name": "stdout",
          "text": [
            "Mounted at /content/drive\n"
          ]
        }
      ]
    }
  ]
}