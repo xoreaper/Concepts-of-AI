{
  "nbformat": 4,
  "nbformat_minor": 0,
  "metadata": {
    "colab": {
      "provenance": []
    },
    "kernelspec": {
      "name": "python3",
      "display_name": "Python 3"
    },
    "language_info": {
      "name": "python"
    }
  },
  "cells": [
    {
      "cell_type": "markdown",
      "source": [
        "Bibidh Raj Shrestha L5CG2\n",
        "(2408852)"
      ],
      "metadata": {
        "id": "LX4NiNUC9lk9"
      }
    },
    {
      "cell_type": "markdown",
      "source": [
        "Problem 1 - Data Read, Write and Inspect:\n",
        "\n",
        "Complete all following Task:\n",
        "• Dataset for the Task: \"bank.csv\"\n",
        "1. Load the provided dataset and import in pandas DataFrame.\n",
        "2. Check info of the DataFrame and identify following:\n",
        "(a) columns with dtypes=object\n",
        "(b) unique values of those columns.\n",
        "(c) check for the total number of null values in each column.\n",
        "3. Drop all the columns with dtypes object and store in new DataFrame, also write the DataFrame in\n",
        "”.csv” with name ”banknumericdata.csv”\n",
        "4. Read ”banknumericdata.csv” and Find the summary statistics."
      ],
      "metadata": {
        "id": "1WIU1QVGy53l"
      }
    },
    {
      "cell_type": "code",
      "source": [
        "from google.colab import drive\n",
        "drive.mount('/content/drive')"
      ],
      "metadata": {
        "id": "M7r_pp3r9tKb",
        "colab": {
          "base_uri": "https://localhost:8080/"
        },
        "outputId": "99039c66-fc6f-4c64-8570-e710cae88098"
      },
      "execution_count": 2,
      "outputs": [
        {
          "output_type": "stream",
          "name": "stdout",
          "text": [
            "Drive already mounted at /content/drive; to attempt to forcibly remount, call drive.mount(\"/content/drive\", force_remount=True).\n"
          ]
        }
      ]
    },
    {
      "cell_type": "markdown",
      "source": [
        "• Dataset for the Task: \"bank.csv\"\n",
        "1. Load the provided dataset and import in pandas DataFrame."
      ],
      "metadata": {
        "id": "O7pkw6LIzJVd"
      }
    },
    {
      "cell_type": "code",
      "source": [
        "import pandas as pd\n",
        "\n",
        "dataset = pd.read_csv('/content/drive/MyDrive/Dataset/Copy of bank .csv')\n",
        "df = pd.DataFrame(dataset)\n",
        "print(df)"
      ],
      "metadata": {
        "colab": {
          "base_uri": "https://localhost:8080/"
        },
        "id": "kVUQyyccy3TG",
        "outputId": "bc0e528a-715e-4afc-b828-60ac7b469402"
      },
      "execution_count": 4,
      "outputs": [
        {
          "output_type": "stream",
          "name": "stdout",
          "text": [
            "       age           job   marital  education default  balance housing loan  \\\n",
            "0       58    management   married   tertiary      no     2143     yes   no   \n",
            "1       44    technician    single  secondary      no       29     yes   no   \n",
            "2       33  entrepreneur   married  secondary      no        2     yes  yes   \n",
            "3       47   blue-collar   married    unknown      no     1506     yes   no   \n",
            "4       33       unknown    single    unknown      no        1      no   no   \n",
            "...    ...           ...       ...        ...     ...      ...     ...  ...   \n",
            "45206   51    technician   married   tertiary      no      825      no   no   \n",
            "45207   71       retired  divorced    primary      no     1729      no   no   \n",
            "45208   72       retired   married  secondary      no     5715      no   no   \n",
            "45209   57   blue-collar   married  secondary      no      668      no   no   \n",
            "45210   37  entrepreneur   married  secondary      no     2971      no   no   \n",
            "\n",
            "         contact  day month  duration  campaign  pdays  previous poutcome    y  \n",
            "0        unknown    5   may       261         1     -1         0  unknown   no  \n",
            "1        unknown    5   may       151         1     -1         0  unknown   no  \n",
            "2        unknown    5   may        76         1     -1         0  unknown   no  \n",
            "3        unknown    5   may        92         1     -1         0  unknown   no  \n",
            "4        unknown    5   may       198         1     -1         0  unknown   no  \n",
            "...          ...  ...   ...       ...       ...    ...       ...      ...  ...  \n",
            "45206   cellular   17   nov       977         3     -1         0  unknown  yes  \n",
            "45207   cellular   17   nov       456         2     -1         0  unknown  yes  \n",
            "45208   cellular   17   nov      1127         5    184         3  success  yes  \n",
            "45209  telephone   17   nov       508         4     -1         0  unknown   no  \n",
            "45210   cellular   17   nov       361         2    188        11    other   no  \n",
            "\n",
            "[45211 rows x 17 columns]\n"
          ]
        }
      ]
    },
    {
      "cell_type": "markdown",
      "source": [
        "2. Check info of the DataFrame and identify following:\n",
        "\n",
        "(a) columns with dtypes=object\n",
        "\n",
        "(b) unique values of those columns.\n",
        "\n",
        "(c) check for the total number of null values in each column."
      ],
      "metadata": {
        "id": "5P3b22JY0klG"
      }
    },
    {
      "cell_type": "code",
      "source": [
        "df.info()\n",
        "\n",
        "# (a) Columns with dtypes=object\n",
        "object_columns = df.select_dtypes(include=['object']).columns\n",
        "\n",
        "# (b) Unique values of those columns\n",
        "for col in object_columns:\n",
        "    print(f\"Unique values in {col}:\", df[col].unique())\n",
        "\n",
        "# (c) Total number of null values in each column\n",
        "print(\"\\nNumber of null values in each column:\")\n",
        "print(df.isnull().sum())"
      ],
      "metadata": {
        "colab": {
          "base_uri": "https://localhost:8080/"
        },
        "id": "zxLWFaEdzvyQ",
        "outputId": "3908d861-6fbb-4a13-e73d-7476bcd75422"
      },
      "execution_count": 5,
      "outputs": [
        {
          "output_type": "stream",
          "name": "stdout",
          "text": [
            "<class 'pandas.core.frame.DataFrame'>\n",
            "RangeIndex: 45211 entries, 0 to 45210\n",
            "Data columns (total 17 columns):\n",
            " #   Column     Non-Null Count  Dtype \n",
            "---  ------     --------------  ----- \n",
            " 0   age        45211 non-null  int64 \n",
            " 1   job        45211 non-null  object\n",
            " 2   marital    45211 non-null  object\n",
            " 3   education  45211 non-null  object\n",
            " 4   default    45211 non-null  object\n",
            " 5   balance    45211 non-null  int64 \n",
            " 6   housing    45211 non-null  object\n",
            " 7   loan       45211 non-null  object\n",
            " 8   contact    45211 non-null  object\n",
            " 9   day        45211 non-null  int64 \n",
            " 10  month      45211 non-null  object\n",
            " 11  duration   45211 non-null  int64 \n",
            " 12  campaign   45211 non-null  int64 \n",
            " 13  pdays      45211 non-null  int64 \n",
            " 14  previous   45211 non-null  int64 \n",
            " 15  poutcome   45211 non-null  object\n",
            " 16  y          45211 non-null  object\n",
            "dtypes: int64(7), object(10)\n",
            "memory usage: 5.9+ MB\n",
            "Unique values in job: ['management' 'technician' 'entrepreneur' 'blue-collar' 'unknown'\n",
            " 'retired' 'admin.' 'services' 'self-employed' 'unemployed' 'housemaid'\n",
            " 'student']\n",
            "Unique values in marital: ['married' 'single' 'divorced']\n",
            "Unique values in education: ['tertiary' 'secondary' 'unknown' 'primary']\n",
            "Unique values in default: ['no' 'yes']\n",
            "Unique values in housing: ['yes' 'no']\n",
            "Unique values in loan: ['no' 'yes']\n",
            "Unique values in contact: ['unknown' 'cellular' 'telephone']\n",
            "Unique values in month: ['may' 'jun' 'jul' 'aug' 'oct' 'nov' 'dec' 'jan' 'feb' 'mar' 'apr' 'sep']\n",
            "Unique values in poutcome: ['unknown' 'failure' 'other' 'success']\n",
            "Unique values in y: ['no' 'yes']\n",
            "\n",
            "Number of null values in each column:\n",
            "age          0\n",
            "job          0\n",
            "marital      0\n",
            "education    0\n",
            "default      0\n",
            "balance      0\n",
            "housing      0\n",
            "loan         0\n",
            "contact      0\n",
            "day          0\n",
            "month        0\n",
            "duration     0\n",
            "campaign     0\n",
            "pdays        0\n",
            "previous     0\n",
            "poutcome     0\n",
            "y            0\n",
            "dtype: int64\n"
          ]
        }
      ]
    },
    {
      "cell_type": "markdown",
      "source": [
        "3. Drop all the columns with dtypes object and store in new DataFrame, also write the DataFrame in\n",
        "”.csv” with name ”banknumericdata.csv”"
      ],
      "metadata": {
        "id": "iAQNj0M94Dp4"
      }
    },
    {
      "cell_type": "code",
      "source": [
        "df_numeric = df.select_dtypes(exclude='object')\n",
        "df_numeric.to_csv(\"banknumericdata.csv\", index=False)"
      ],
      "metadata": {
        "id": "NKhaw8Uj2xLt"
      },
      "execution_count": 6,
      "outputs": []
    },
    {
      "cell_type": "markdown",
      "source": [
        "4. Read ”banknumericdata.csv” and Find the summary statistics."
      ],
      "metadata": {
        "id": "R4IAINIQYTgi"
      }
    },
    {
      "cell_type": "code",
      "source": [
        "df_numeric_summary = pd.read_csv(\"banknumericdata.csv\")\n",
        "print(df_numeric_summary.head(), \"\\n\")\n",
        "print(df_numeric_summary.describe())"
      ],
      "metadata": {
        "colab": {
          "base_uri": "https://localhost:8080/"
        },
        "id": "BCEwHc3EYXf6",
        "outputId": "6c50c6e5-ea75-460e-e6a2-72673713612a"
      },
      "execution_count": 7,
      "outputs": [
        {
          "output_type": "stream",
          "name": "stdout",
          "text": [
            "   age  balance  day  duration  campaign  pdays  previous\n",
            "0   58     2143    5       261         1     -1         0\n",
            "1   44       29    5       151         1     -1         0\n",
            "2   33        2    5        76         1     -1         0\n",
            "3   47     1506    5        92         1     -1         0\n",
            "4   33        1    5       198         1     -1         0 \n",
            "\n",
            "                age        balance           day      duration      campaign  \\\n",
            "count  45211.000000   45211.000000  45211.000000  45211.000000  45211.000000   \n",
            "mean      40.936210    1362.272058     15.806419    258.163080      2.763841   \n",
            "std       10.618762    3044.765829      8.322476    257.527812      3.098021   \n",
            "min       18.000000   -8019.000000      1.000000      0.000000      1.000000   \n",
            "25%       33.000000      72.000000      8.000000    103.000000      1.000000   \n",
            "50%       39.000000     448.000000     16.000000    180.000000      2.000000   \n",
            "75%       48.000000    1428.000000     21.000000    319.000000      3.000000   \n",
            "max       95.000000  102127.000000     31.000000   4918.000000     63.000000   \n",
            "\n",
            "              pdays      previous  \n",
            "count  45211.000000  45211.000000  \n",
            "mean      40.197828      0.580323  \n",
            "std      100.128746      2.303441  \n",
            "min       -1.000000      0.000000  \n",
            "25%       -1.000000      0.000000  \n",
            "50%       -1.000000      0.000000  \n",
            "75%       -1.000000      0.000000  \n",
            "max      871.000000    275.000000  \n"
          ]
        }
      ]
    },
    {
      "cell_type": "markdown",
      "source": [
        " *Problem* 2 - Data Imputations:\n",
        "\n",
        "Complete all the following Task:\n",
        "• Dataset for the Task: \"medical_student.csv\"\n",
        "1. Load the provided dataset and import in pandas DataFrame.\n",
        "2. Check info of the DataFrame and identify column with missing (null) values.\n",
        "3. For the column with missing values fill the values using various techniques we discussed above. Try\n",
        "to explain why did you select the particular methods for particular column.\n",
        "4. Check for any duplicate values present in Dataset and do necessary to manage the duplicate items.\n",
        "{Hint: dataset.duplicated.sum()}"
      ],
      "metadata": {
        "id": "PQw_7qmJYoSm"
      }
    },
    {
      "cell_type": "markdown",
      "source": [
        "1. Load the provided dataset and import in pandas DataFrame"
      ],
      "metadata": {
        "id": "0X919R27Y9p8"
      }
    },
    {
      "cell_type": "code",
      "source": [
        "df_medical = pd.read_csv(\"/content/drive/MyDrive/Dataset/Copy of medical_students_dataset.csv\")\n",
        "df_medical.head()"
      ],
      "metadata": {
        "colab": {
          "base_uri": "https://localhost:8080/",
          "height": 204
        },
        "id": "dmu6H5vUYfsC",
        "outputId": "eef1830d-3cdf-4260-94ff-79415c3a6d04"
      },
      "execution_count": 9,
      "outputs": [
        {
          "output_type": "execute_result",
          "data": {
            "text/plain": [
              "   Student ID   Age  Gender      Height     Weight Blood Type        BMI  \\\n",
              "0         1.0  18.0  Female  161.777924  72.354947          O  27.645835   \n",
              "1         2.0   NaN    Male  152.069157  47.630941          B        NaN   \n",
              "2         3.0  32.0  Female  182.537664  55.741083          A  16.729017   \n",
              "3         NaN  30.0    Male  182.112867  63.332207          B  19.096042   \n",
              "4         5.0  23.0  Female         NaN  46.234173          O        NaN   \n",
              "\n",
              "   Temperature  Heart Rate  Blood Pressure  Cholesterol Diabetes Smoking  \n",
              "0          NaN        95.0           109.0        203.0       No     NaN  \n",
              "1    98.714977        93.0           104.0        163.0       No      No  \n",
              "2    98.260293        76.0           130.0        216.0      Yes      No  \n",
              "3    98.839605        99.0           112.0        141.0       No     Yes  \n",
              "4    98.480008        95.0             NaN        231.0       No      No  "
            ],
            "text/html": [
              "\n",
              "  <div id=\"df-24ceb50f-eb1d-477e-bd71-94daa01f6650\" class=\"colab-df-container\">\n",
              "    <div>\n",
              "<style scoped>\n",
              "    .dataframe tbody tr th:only-of-type {\n",
              "        vertical-align: middle;\n",
              "    }\n",
              "\n",
              "    .dataframe tbody tr th {\n",
              "        vertical-align: top;\n",
              "    }\n",
              "\n",
              "    .dataframe thead th {\n",
              "        text-align: right;\n",
              "    }\n",
              "</style>\n",
              "<table border=\"1\" class=\"dataframe\">\n",
              "  <thead>\n",
              "    <tr style=\"text-align: right;\">\n",
              "      <th></th>\n",
              "      <th>Student ID</th>\n",
              "      <th>Age</th>\n",
              "      <th>Gender</th>\n",
              "      <th>Height</th>\n",
              "      <th>Weight</th>\n",
              "      <th>Blood Type</th>\n",
              "      <th>BMI</th>\n",
              "      <th>Temperature</th>\n",
              "      <th>Heart Rate</th>\n",
              "      <th>Blood Pressure</th>\n",
              "      <th>Cholesterol</th>\n",
              "      <th>Diabetes</th>\n",
              "      <th>Smoking</th>\n",
              "    </tr>\n",
              "  </thead>\n",
              "  <tbody>\n",
              "    <tr>\n",
              "      <th>0</th>\n",
              "      <td>1.0</td>\n",
              "      <td>18.0</td>\n",
              "      <td>Female</td>\n",
              "      <td>161.777924</td>\n",
              "      <td>72.354947</td>\n",
              "      <td>O</td>\n",
              "      <td>27.645835</td>\n",
              "      <td>NaN</td>\n",
              "      <td>95.0</td>\n",
              "      <td>109.0</td>\n",
              "      <td>203.0</td>\n",
              "      <td>No</td>\n",
              "      <td>NaN</td>\n",
              "    </tr>\n",
              "    <tr>\n",
              "      <th>1</th>\n",
              "      <td>2.0</td>\n",
              "      <td>NaN</td>\n",
              "      <td>Male</td>\n",
              "      <td>152.069157</td>\n",
              "      <td>47.630941</td>\n",
              "      <td>B</td>\n",
              "      <td>NaN</td>\n",
              "      <td>98.714977</td>\n",
              "      <td>93.0</td>\n",
              "      <td>104.0</td>\n",
              "      <td>163.0</td>\n",
              "      <td>No</td>\n",
              "      <td>No</td>\n",
              "    </tr>\n",
              "    <tr>\n",
              "      <th>2</th>\n",
              "      <td>3.0</td>\n",
              "      <td>32.0</td>\n",
              "      <td>Female</td>\n",
              "      <td>182.537664</td>\n",
              "      <td>55.741083</td>\n",
              "      <td>A</td>\n",
              "      <td>16.729017</td>\n",
              "      <td>98.260293</td>\n",
              "      <td>76.0</td>\n",
              "      <td>130.0</td>\n",
              "      <td>216.0</td>\n",
              "      <td>Yes</td>\n",
              "      <td>No</td>\n",
              "    </tr>\n",
              "    <tr>\n",
              "      <th>3</th>\n",
              "      <td>NaN</td>\n",
              "      <td>30.0</td>\n",
              "      <td>Male</td>\n",
              "      <td>182.112867</td>\n",
              "      <td>63.332207</td>\n",
              "      <td>B</td>\n",
              "      <td>19.096042</td>\n",
              "      <td>98.839605</td>\n",
              "      <td>99.0</td>\n",
              "      <td>112.0</td>\n",
              "      <td>141.0</td>\n",
              "      <td>No</td>\n",
              "      <td>Yes</td>\n",
              "    </tr>\n",
              "    <tr>\n",
              "      <th>4</th>\n",
              "      <td>5.0</td>\n",
              "      <td>23.0</td>\n",
              "      <td>Female</td>\n",
              "      <td>NaN</td>\n",
              "      <td>46.234173</td>\n",
              "      <td>O</td>\n",
              "      <td>NaN</td>\n",
              "      <td>98.480008</td>\n",
              "      <td>95.0</td>\n",
              "      <td>NaN</td>\n",
              "      <td>231.0</td>\n",
              "      <td>No</td>\n",
              "      <td>No</td>\n",
              "    </tr>\n",
              "  </tbody>\n",
              "</table>\n",
              "</div>\n",
              "    <div class=\"colab-df-buttons\">\n",
              "\n",
              "  <div class=\"colab-df-container\">\n",
              "    <button class=\"colab-df-convert\" onclick=\"convertToInteractive('df-24ceb50f-eb1d-477e-bd71-94daa01f6650')\"\n",
              "            title=\"Convert this dataframe to an interactive table.\"\n",
              "            style=\"display:none;\">\n",
              "\n",
              "  <svg xmlns=\"http://www.w3.org/2000/svg\" height=\"24px\" viewBox=\"0 -960 960 960\">\n",
              "    <path d=\"M120-120v-720h720v720H120Zm60-500h600v-160H180v160Zm220 220h160v-160H400v160Zm0 220h160v-160H400v160ZM180-400h160v-160H180v160Zm440 0h160v-160H620v160ZM180-180h160v-160H180v160Zm440 0h160v-160H620v160Z\"/>\n",
              "  </svg>\n",
              "    </button>\n",
              "\n",
              "  <style>\n",
              "    .colab-df-container {\n",
              "      display:flex;\n",
              "      gap: 12px;\n",
              "    }\n",
              "\n",
              "    .colab-df-convert {\n",
              "      background-color: #E8F0FE;\n",
              "      border: none;\n",
              "      border-radius: 50%;\n",
              "      cursor: pointer;\n",
              "      display: none;\n",
              "      fill: #1967D2;\n",
              "      height: 32px;\n",
              "      padding: 0 0 0 0;\n",
              "      width: 32px;\n",
              "    }\n",
              "\n",
              "    .colab-df-convert:hover {\n",
              "      background-color: #E2EBFA;\n",
              "      box-shadow: 0px 1px 2px rgba(60, 64, 67, 0.3), 0px 1px 3px 1px rgba(60, 64, 67, 0.15);\n",
              "      fill: #174EA6;\n",
              "    }\n",
              "\n",
              "    .colab-df-buttons div {\n",
              "      margin-bottom: 4px;\n",
              "    }\n",
              "\n",
              "    [theme=dark] .colab-df-convert {\n",
              "      background-color: #3B4455;\n",
              "      fill: #D2E3FC;\n",
              "    }\n",
              "\n",
              "    [theme=dark] .colab-df-convert:hover {\n",
              "      background-color: #434B5C;\n",
              "      box-shadow: 0px 1px 3px 1px rgba(0, 0, 0, 0.15);\n",
              "      filter: drop-shadow(0px 1px 2px rgba(0, 0, 0, 0.3));\n",
              "      fill: #FFFFFF;\n",
              "    }\n",
              "  </style>\n",
              "\n",
              "    <script>\n",
              "      const buttonEl =\n",
              "        document.querySelector('#df-24ceb50f-eb1d-477e-bd71-94daa01f6650 button.colab-df-convert');\n",
              "      buttonEl.style.display =\n",
              "        google.colab.kernel.accessAllowed ? 'block' : 'none';\n",
              "\n",
              "      async function convertToInteractive(key) {\n",
              "        const element = document.querySelector('#df-24ceb50f-eb1d-477e-bd71-94daa01f6650');\n",
              "        const dataTable =\n",
              "          await google.colab.kernel.invokeFunction('convertToInteractive',\n",
              "                                                    [key], {});\n",
              "        if (!dataTable) return;\n",
              "\n",
              "        const docLinkHtml = 'Like what you see? Visit the ' +\n",
              "          '<a target=\"_blank\" href=https://colab.research.google.com/notebooks/data_table.ipynb>data table notebook</a>'\n",
              "          + ' to learn more about interactive tables.';\n",
              "        element.innerHTML = '';\n",
              "        dataTable['output_type'] = 'display_data';\n",
              "        await google.colab.output.renderOutput(dataTable, element);\n",
              "        const docLink = document.createElement('div');\n",
              "        docLink.innerHTML = docLinkHtml;\n",
              "        element.appendChild(docLink);\n",
              "      }\n",
              "    </script>\n",
              "  </div>\n",
              "\n",
              "\n",
              "<div id=\"df-745b4fd6-649e-4f0a-9ef3-61f8d2cf38d3\">\n",
              "  <button class=\"colab-df-quickchart\" onclick=\"quickchart('df-745b4fd6-649e-4f0a-9ef3-61f8d2cf38d3')\"\n",
              "            title=\"Suggest charts\"\n",
              "            style=\"display:none;\">\n",
              "\n",
              "<svg xmlns=\"http://www.w3.org/2000/svg\" height=\"24px\"viewBox=\"0 0 24 24\"\n",
              "     width=\"24px\">\n",
              "    <g>\n",
              "        <path d=\"M19 3H5c-1.1 0-2 .9-2 2v14c0 1.1.9 2 2 2h14c1.1 0 2-.9 2-2V5c0-1.1-.9-2-2-2zM9 17H7v-7h2v7zm4 0h-2V7h2v10zm4 0h-2v-4h2v4z\"/>\n",
              "    </g>\n",
              "</svg>\n",
              "  </button>\n",
              "\n",
              "<style>\n",
              "  .colab-df-quickchart {\n",
              "      --bg-color: #E8F0FE;\n",
              "      --fill-color: #1967D2;\n",
              "      --hover-bg-color: #E2EBFA;\n",
              "      --hover-fill-color: #174EA6;\n",
              "      --disabled-fill-color: #AAA;\n",
              "      --disabled-bg-color: #DDD;\n",
              "  }\n",
              "\n",
              "  [theme=dark] .colab-df-quickchart {\n",
              "      --bg-color: #3B4455;\n",
              "      --fill-color: #D2E3FC;\n",
              "      --hover-bg-color: #434B5C;\n",
              "      --hover-fill-color: #FFFFFF;\n",
              "      --disabled-bg-color: #3B4455;\n",
              "      --disabled-fill-color: #666;\n",
              "  }\n",
              "\n",
              "  .colab-df-quickchart {\n",
              "    background-color: var(--bg-color);\n",
              "    border: none;\n",
              "    border-radius: 50%;\n",
              "    cursor: pointer;\n",
              "    display: none;\n",
              "    fill: var(--fill-color);\n",
              "    height: 32px;\n",
              "    padding: 0;\n",
              "    width: 32px;\n",
              "  }\n",
              "\n",
              "  .colab-df-quickchart:hover {\n",
              "    background-color: var(--hover-bg-color);\n",
              "    box-shadow: 0 1px 2px rgba(60, 64, 67, 0.3), 0 1px 3px 1px rgba(60, 64, 67, 0.15);\n",
              "    fill: var(--button-hover-fill-color);\n",
              "  }\n",
              "\n",
              "  .colab-df-quickchart-complete:disabled,\n",
              "  .colab-df-quickchart-complete:disabled:hover {\n",
              "    background-color: var(--disabled-bg-color);\n",
              "    fill: var(--disabled-fill-color);\n",
              "    box-shadow: none;\n",
              "  }\n",
              "\n",
              "  .colab-df-spinner {\n",
              "    border: 2px solid var(--fill-color);\n",
              "    border-color: transparent;\n",
              "    border-bottom-color: var(--fill-color);\n",
              "    animation:\n",
              "      spin 1s steps(1) infinite;\n",
              "  }\n",
              "\n",
              "  @keyframes spin {\n",
              "    0% {\n",
              "      border-color: transparent;\n",
              "      border-bottom-color: var(--fill-color);\n",
              "      border-left-color: var(--fill-color);\n",
              "    }\n",
              "    20% {\n",
              "      border-color: transparent;\n",
              "      border-left-color: var(--fill-color);\n",
              "      border-top-color: var(--fill-color);\n",
              "    }\n",
              "    30% {\n",
              "      border-color: transparent;\n",
              "      border-left-color: var(--fill-color);\n",
              "      border-top-color: var(--fill-color);\n",
              "      border-right-color: var(--fill-color);\n",
              "    }\n",
              "    40% {\n",
              "      border-color: transparent;\n",
              "      border-right-color: var(--fill-color);\n",
              "      border-top-color: var(--fill-color);\n",
              "    }\n",
              "    60% {\n",
              "      border-color: transparent;\n",
              "      border-right-color: var(--fill-color);\n",
              "    }\n",
              "    80% {\n",
              "      border-color: transparent;\n",
              "      border-right-color: var(--fill-color);\n",
              "      border-bottom-color: var(--fill-color);\n",
              "    }\n",
              "    90% {\n",
              "      border-color: transparent;\n",
              "      border-bottom-color: var(--fill-color);\n",
              "    }\n",
              "  }\n",
              "</style>\n",
              "\n",
              "  <script>\n",
              "    async function quickchart(key) {\n",
              "      const quickchartButtonEl =\n",
              "        document.querySelector('#' + key + ' button');\n",
              "      quickchartButtonEl.disabled = true;  // To prevent multiple clicks.\n",
              "      quickchartButtonEl.classList.add('colab-df-spinner');\n",
              "      try {\n",
              "        const charts = await google.colab.kernel.invokeFunction(\n",
              "            'suggestCharts', [key], {});\n",
              "      } catch (error) {\n",
              "        console.error('Error during call to suggestCharts:', error);\n",
              "      }\n",
              "      quickchartButtonEl.classList.remove('colab-df-spinner');\n",
              "      quickchartButtonEl.classList.add('colab-df-quickchart-complete');\n",
              "    }\n",
              "    (() => {\n",
              "      let quickchartButtonEl =\n",
              "        document.querySelector('#df-745b4fd6-649e-4f0a-9ef3-61f8d2cf38d3 button');\n",
              "      quickchartButtonEl.style.display =\n",
              "        google.colab.kernel.accessAllowed ? 'block' : 'none';\n",
              "    })();\n",
              "  </script>\n",
              "</div>\n",
              "\n",
              "    </div>\n",
              "  </div>\n"
            ],
            "application/vnd.google.colaboratory.intrinsic+json": {
              "type": "dataframe",
              "variable_name": "df_medical"
            }
          },
          "metadata": {},
          "execution_count": 9
        }
      ]
    },
    {
      "cell_type": "markdown",
      "source": [
        "2. Check info of the DataFrame and identify column with missing (null) values."
      ],
      "metadata": {
        "id": "HLjOZHpYaGaE"
      }
    },
    {
      "cell_type": "code",
      "source": [
        "print(df_medical.info())\n",
        "print(\"\\nNumber of missing values in each column:\")\n",
        "\n",
        "print(df_medical.isnull().sum())"
      ],
      "metadata": {
        "colab": {
          "base_uri": "https://localhost:8080/"
        },
        "id": "gU_RHwfXaFrU",
        "outputId": "b7d890c0-1cb1-471a-ee73-4fcfe8365f88"
      },
      "execution_count": 10,
      "outputs": [
        {
          "output_type": "stream",
          "name": "stdout",
          "text": [
            "<class 'pandas.core.frame.DataFrame'>\n",
            "RangeIndex: 200000 entries, 0 to 199999\n",
            "Data columns (total 13 columns):\n",
            " #   Column          Non-Null Count   Dtype  \n",
            "---  ------          --------------   -----  \n",
            " 0   Student ID      180000 non-null  float64\n",
            " 1   Age             180000 non-null  float64\n",
            " 2   Gender          180000 non-null  object \n",
            " 3   Height          180000 non-null  float64\n",
            " 4   Weight          180000 non-null  float64\n",
            " 5   Blood Type      180000 non-null  object \n",
            " 6   BMI             180000 non-null  float64\n",
            " 7   Temperature     180000 non-null  float64\n",
            " 8   Heart Rate      180000 non-null  float64\n",
            " 9   Blood Pressure  180000 non-null  float64\n",
            " 10  Cholesterol     180000 non-null  float64\n",
            " 11  Diabetes        180000 non-null  object \n",
            " 12  Smoking         180000 non-null  object \n",
            "dtypes: float64(9), object(4)\n",
            "memory usage: 19.8+ MB\n",
            "None\n",
            "\n",
            "Number of missing values in each column:\n",
            "Student ID        20000\n",
            "Age               20000\n",
            "Gender            20000\n",
            "Height            20000\n",
            "Weight            20000\n",
            "Blood Type        20000\n",
            "BMI               20000\n",
            "Temperature       20000\n",
            "Heart Rate        20000\n",
            "Blood Pressure    20000\n",
            "Cholesterol       20000\n",
            "Diabetes          20000\n",
            "Smoking           20000\n",
            "dtype: int64\n"
          ]
        }
      ]
    },
    {
      "cell_type": "markdown",
      "source": [
        "3. For the column with missing values fill the values using various techniques we discussed above. Try to explain why did you select the particular methods for particular column."
      ],
      "metadata": {
        "id": "Z8gviasbaVV2"
      }
    },
    {
      "cell_type": "code",
      "source": [
        "for col in df_medical.columns:\n",
        "  if df_medical[col].isnull().sum() > 0:\n",
        "    if df_medical[col].dtype == 'object':\n",
        "\n",
        "      df_medical[col] = df_medical[col].fillna(df_medical[col].mode()[0])\n",
        "    else:\n",
        "\n",
        "      df_medical[col] = df_medical[col].fillna(df_medical[col].mean())\n",
        "\n",
        "print(\"\\nMissing values after filling:\")\n",
        "print(df_medical.isnull().sum())"
      ],
      "metadata": {
        "colab": {
          "base_uri": "https://localhost:8080/"
        },
        "id": "I6Yu23oMaWiJ",
        "outputId": "e22590ef-0a71-49b7-ef8d-0f1a698cadc3"
      },
      "execution_count": 11,
      "outputs": [
        {
          "output_type": "stream",
          "name": "stdout",
          "text": [
            "\n",
            "Missing values after filling:\n",
            "Student ID        0\n",
            "Age               0\n",
            "Gender            0\n",
            "Height            0\n",
            "Weight            0\n",
            "Blood Type        0\n",
            "BMI               0\n",
            "Temperature       0\n",
            "Heart Rate        0\n",
            "Blood Pressure    0\n",
            "Cholesterol       0\n",
            "Diabetes          0\n",
            "Smoking           0\n",
            "dtype: int64\n"
          ]
        }
      ]
    },
    {
      "cell_type": "markdown",
      "source": [
        "4. Check for any duplicate values present in Dataset and do necessary to manage the duplicate items. {Hint: dataset.duplicated.sum()}"
      ],
      "metadata": {
        "id": "peKpEIgMbuTk"
      }
    },
    {
      "cell_type": "code",
      "source": [
        "print(\"\\nNumber of duplicate rows:\", df_medical.duplicated().sum())\n",
        "df_medical = df_medical.drop_duplicates()\n",
        "print(\"Number of rows after removing duplicates:\", len(df_medical))"
      ],
      "metadata": {
        "colab": {
          "base_uri": "https://localhost:8080/"
        },
        "id": "OGyV2aZxbwq6",
        "outputId": "b31b64a7-49a3-4e89-cf8f-b09ee735c9d6"
      },
      "execution_count": null,
      "outputs": [
        {
          "output_type": "stream",
          "name": "stdout",
          "text": [
            "\n",
            "Number of duplicate rows: 0\n",
            "Number of rows after removing duplicates: 187428\n"
          ]
        }
      ]
    },
    {
      "cell_type": "markdown",
      "source": [
        "# **Exercises - Data Cleaning and Transformations with ”Titanic Dataset”:**"
      ],
      "metadata": {
        "id": "93EyH17nc9Ci"
      }
    },
    {
      "cell_type": "markdown",
      "source": [
        "\n",
        "Problem - 1:\n",
        "\n",
        "Create a DataFrame that is subsetted for the columns ’Name’, ’Pclass’, ’Sex’, ’Age’, ’Fare’, and ’Survived’.\n",
        "Retain only those rows where ’Pclass’ is equal to 1, representing first-class passengers. What is the mean,\n",
        "median, maximum value, and minimum value of the ’Fare’ column?\n"
      ],
      "metadata": {
        "id": "PSIjlPq9dKpk"
      }
    },
    {
      "cell_type": "code",
      "source": [
        "titanic_df = pd.read_csv(\"/content/drive/MyDrive/Dataset/Copy of Titanic-Dataset.csv\")\n",
        "\n",
        "subset_df = titanic_df[['Name', 'Pclass', 'Sex', 'Age', 'Fare', 'Survived']]\n",
        "first_class_df = subset_df[subset_df['Pclass'] == 1]\n",
        "\n",
        "mean_fare = first_class_df['Fare'].mean()\n",
        "median_fare = first_class_df['Fare'].median()\n",
        "max_fare = first_class_df['Fare'].max()\n",
        "min_fare = first_class_df['Fare'].min()\n",
        "\n",
        "print(\"Fare Stats for First-Class Passesngers\")\n",
        "print(\"Mean Fare:\", mean_fare)\n",
        "print(\"Median Fare:\", median_fare)\n",
        "print(\"Maximum Fare:\", max_fare)\n",
        "print(\"Minimum Fare:\", min_fare)"
      ],
      "metadata": {
        "colab": {
          "base_uri": "https://localhost:8080/"
        },
        "id": "g0MoWXlhdSM3",
        "outputId": "c5c44176-6f03-4c99-8a5f-599149e58fbf"
      },
      "execution_count": 14,
      "outputs": [
        {
          "output_type": "stream",
          "name": "stdout",
          "text": [
            "Fare Stats for First-Class Passesngers\n",
            "Mean Fare: 84.1546875\n",
            "Median Fare: 60.287499999999994\n",
            "Maximum Fare: 512.3292\n",
            "Minimum Fare: 0.0\n"
          ]
        }
      ]
    },
    {
      "cell_type": "markdown",
      "source": [
        "Problem - 2:\n",
        "\n",
        "How many null values are contained in the ’Age’ column in your subsetted DataFrame? Once you’ve found this out, drop them from your DataFrame."
      ],
      "metadata": {
        "id": "h3qGMZJAebrU"
      }
    },
    {
      "cell_type": "code",
      "source": [
        "null_age_count = first_class_df['Age'].isnull().sum()\n",
        "print(f\"Number of null values in 'Age': {null_age_count}\")\n",
        "\n",
        "\n",
        "cleaned_df = first_class_df.dropna(subset=['Age'])\n",
        "print(f\"Number of rows after dropping null values: {len(cleaned_df)}\")\n"
      ],
      "metadata": {
        "colab": {
          "base_uri": "https://localhost:8080/"
        },
        "id": "CSingDrredf_",
        "outputId": "e83aebcc-7cb8-4b2d-96e5-56649d4122c3"
      },
      "execution_count": 15,
      "outputs": [
        {
          "output_type": "stream",
          "name": "stdout",
          "text": [
            "Number of null values in 'Age': 30\n",
            "Number of rows after dropping null values: 186\n"
          ]
        }
      ]
    },
    {
      "cell_type": "markdown",
      "source": [
        "Problem - 3:\n",
        "\n",
        "The ’Embarked’ column in the Titanic dataset contains categorical data representing the ports of embarka- tion:\n",
        "\n",
        "• ’C’ for Cherbourg\n",
        "\n",
        "• ’Q’ for Queenstown\n",
        "\n",
        "• ’S’ for Southampton\n",
        "\n",
        "Task:\n",
        "\n",
        "Use one-hot encoding to convert the ’Embarked’ column into separate binary columns (’Embarked C’, ’Embarked Q’, ’Embarked S’).\n",
        "Add these new columns to the original DataFrame.\n",
        "Drop the original ’Embarked’ column.\n",
        "Print the first few rows of the modified DataFrame to verify the changes."
      ],
      "metadata": {
        "id": "G_ykugHke9zh"
      }
    },
    {
      "cell_type": "code",
      "source": [
        "embarked_encoded = pd.get_dummies(titanic_df['Embarked'], prefix='Embarked')\n",
        "\n",
        "\n",
        "titanic_df = pd.concat([titanic_df, embarked_encoded], axis=1)\n",
        "\n",
        "\n",
        "titanic_df = titanic_df.drop(columns=['Embarked'])\n",
        "\n",
        "\n",
        "print(titanic_df.head())"
      ],
      "metadata": {
        "colab": {
          "base_uri": "https://localhost:8080/"
        },
        "id": "dNLCgg4bfAZ5",
        "outputId": "eb6c33c6-4283-41f1-eefc-676216d82edd"
      },
      "execution_count": 16,
      "outputs": [
        {
          "output_type": "stream",
          "name": "stdout",
          "text": [
            "   PassengerId  Survived  Pclass  \\\n",
            "0            1         0       3   \n",
            "1            2         1       1   \n",
            "2            3         1       3   \n",
            "3            4         1       1   \n",
            "4            5         0       3   \n",
            "\n",
            "                                                Name     Sex   Age  SibSp  \\\n",
            "0                            Braund, Mr. Owen Harris    male  22.0      1   \n",
            "1  Cumings, Mrs. John Bradley (Florence Briggs Th...  female  38.0      1   \n",
            "2                             Heikkinen, Miss. Laina  female  26.0      0   \n",
            "3       Futrelle, Mrs. Jacques Heath (Lily May Peel)  female  35.0      1   \n",
            "4                           Allen, Mr. William Henry    male  35.0      0   \n",
            "\n",
            "   Parch            Ticket     Fare Cabin  Embarked_C  Embarked_Q  Embarked_S  \n",
            "0      0         A/5 21171   7.2500   NaN       False       False        True  \n",
            "1      0          PC 17599  71.2833   C85        True       False       False  \n",
            "2      0  STON/O2. 3101282   7.9250   NaN       False       False        True  \n",
            "3      0            113803  53.1000  C123       False       False        True  \n",
            "4      0            373450   8.0500   NaN       False       False        True  \n"
          ]
        }
      ]
    },
    {
      "cell_type": "markdown",
      "source": [
        "Problem - 4:\n",
        "\n",
        "Compare the mean survival rates (’Survived’) for the different groups in the ’Sex’ column. Draw a visual- ization to show how the survival distributions vary by gender."
      ],
      "metadata": {
        "id": "TiqvOTnnfHna"
      }
    },
    {
      "cell_type": "code",
      "source": [
        "import matplotlib.pyplot as plt\n",
        "\n",
        "survival_rates_gender = titanic_df.groupby('Sex')['Survived'].mean()\n",
        "print(\"Survival Rates by Gender:\")\n",
        "print(survival_rates_gender)\n",
        "\n",
        "plt.bar(survival_rates_gender.index, survival_rates_gender.values, color=['lightcoral', 'skyblue'])\n",
        "plt.title(\"Survival Rates by Gender\")\n",
        "plt.xlabel(\"Gender\")\n",
        "plt.ylabel(\"Survival Rate\")\n",
        "plt.show()"
      ],
      "metadata": {
        "colab": {
          "base_uri": "https://localhost:8080/",
          "height": 557
        },
        "id": "dmZPIHjDfECX",
        "outputId": "0be9098a-85cc-4177-a211-5d7d70b70e8e"
      },
      "execution_count": 17,
      "outputs": [
        {
          "output_type": "stream",
          "name": "stdout",
          "text": [
            "Survival Rates by Gender:\n",
            "Sex\n",
            "female    0.742038\n",
            "male      0.188908\n",
            "Name: Survived, dtype: float64\n"
          ]
        },
        {
          "output_type": "display_data",
          "data": {
            "text/plain": [
              "<Figure size 640x480 with 1 Axes>"
            ],
            "image/png": "[encoded data removed]"
          },
          "metadata": {}
        }
      ]
    },
    {
      "cell_type": "markdown",
      "source": [
        "Problem - 5:\n",
        "\n",
        "Draw a visualization that breaks your visualization from Exercise 3 down by the port of embarkation (’Em-\n",
        "barked’). In this instance, compare the ports ’C’ (Cherbourg), ’Q’ (Queenstown), and ’S’ (Southampton)."
      ],
      "metadata": {
        "id": "-iEiO0b1gNRo"
      }
    },
    {
      "cell_type": "code",
      "source": [
        "# Calculate mean survival rates for each port using one-hot encoded columns\n",
        "survival_rates_port = {\n",
        "    'Cherbourg': titanic_df.loc[titanic_df['Embarked_C'] == 1, 'Survived'].mean(),\n",
        "    'Queenstown': titanic_df.loc[titanic_df['Embarked_Q'] == 1, 'Survived'].mean(),\n",
        "    'Southampton': titanic_df.loc[titanic_df['Embarked_S'] == 1, 'Survived'].mean(),\n",
        "}\n",
        "\n",
        "# Visualization\n",
        "plt.figure(figsize=(8, 6))\n",
        "plt.bar(survival_rates_port.keys(), survival_rates_port.values(), color=['green', 'orange', 'red'])\n",
        "plt.title(\"Survival Rates by Port of Embarkation\")\n",
        "plt.xlabel(\"Port\")\n",
        "plt.ylabel(\"Survival Rate\")\n",
        "plt.show()"
      ],
      "metadata": {
        "colab": {
          "base_uri": "https://localhost:8080/",
          "height": 564
        },
        "id": "aO4FWnGWgQew",
        "outputId": "48a882b3-25a1-44aa-f68a-ea6edb8a2fb3"
      },
      "execution_count": 18,
      "outputs": [
        {
          "output_type": "display_data",
          "data": {
            "text/plain": [
              "<Figure size 800x600 with 1 Axes>"
            ],
            "image/png": "[encoded data removed]"
          },
          "metadata": {}
        }
      ]
    }
  ]
}